{
 "cells": [
  {
   "cell_type": "code",
   "execution_count": 2,
   "id": "3a0ccb5b",
   "metadata": {},
   "outputs": [],
   "source": [
    "from suaBibSignal import *\n",
    "import numpy as np\n",
    "import sounddevice as sd\n",
    "import sys\n",
    "import matplotlib.pyplot as plt\n",
    "import matplotlib.image as mpimg\n",
    "import soundfile as sf\n",
    "import time"
   ]
  },
  {
   "cell_type": "code",
   "execution_count": 6,
   "id": "9d1d4e17",
   "metadata": {},
   "outputs": [
    {
     "name": "stdout",
     "output_type": "stream",
     "text": [
      "-->Gravação irá se iniciar em 2s...\n",
      "\n",
      "-->Gravação Iniciada\n",
      "\n",
      "-->Áudio gravado\n"
     ]
    }
   ],
   "source": [
    "fs = 44100\n",
    "sd.default.samplerate = fs\n",
    "sd.default.channels = 2  #voce pode ter que alterar isso dependendo da sua placa\n",
    "T=5\n",
    "\n",
    "print(\"-->Gravação irá se iniciar em 2s...\\n\")\n",
    "time.sleep(2.0)\n",
    "\n",
    "#faca um print informando que a gravacao foi inicializada\n",
    "#declare uma variavel \"duracao\" com a duracao em segundos da gravacao. poucos segundos ... \n",
    "#calcule o numero de amostras \"numAmostras\" que serao feitas (numero de aquisicoes)\n",
    "print(\"-->Gravação Iniciada\\n\")\n",
    "numAmostras = fs * T\n",
    "audio = sd.rec(int(numAmostras), fs, channels=1)\n",
    "sd.wait()\n",
    "audio = audio[:,0]\n",
    "print(\"-->Áudio gravado\")\n",
    "sd.play(audio, fs)\n",
    "sd.wait()\n",
    "filename = 'gravacao.wav'\n",
    "sf.write(filename, audio, fs)"
   ]
  },
  {
   "cell_type": "code",
   "execution_count": null,
   "id": "9ea824d3",
   "metadata": {},
   "outputs": [],
   "source": []
  }
 ],
 "metadata": {
  "kernelspec": {
   "display_name": "Python 3 (ipykernel)",
   "language": "python",
   "name": "python3"
  },
  "language_info": {
   "codemirror_mode": {
    "name": "ipython",
    "version": 3
   },
   "file_extension": ".py",
   "mimetype": "text/x-python",
   "name": "python",
   "nbconvert_exporter": "python",
   "pygments_lexer": "ipython3",
   "version": "3.8.3"
  }
 },
 "nbformat": 4,
 "nbformat_minor": 5
}
